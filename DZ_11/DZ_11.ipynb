{
 "cells": [
  {
   "cell_type": "code",
   "execution_count": 1,
   "id": "b95fdd43-3823-423d-bb8c-d9511e558cab",
   "metadata": {},
   "outputs": [],
   "source": [
    "import sympy, math, numpy as np\n",
    "x = sympy.symbols('x')\n",
    "f = -12*x**4*sympy.sin(sympy.cos(x)) - 18*x**3+5*x**2 + 10*x - 30"
   ]
  },
  {
   "cell_type": "code",
   "execution_count": 2,
   "id": "ebcde381-f6aa-4004-ba2f-6d2fe0a2bf97",
   "metadata": {},
   "outputs": [
    {
     "data": {
      "text/latex": [
       "$\\displaystyle \\left\\{x\\; \\middle|\\; x \\in \\mathbb{C} \\wedge - 12 x^{4} \\sin{\\left(\\cos{\\left(x \\right)} \\right)} - 18 x^{3} + 5 x^{2} + 10 x - 30 = 0 \\right\\}$"
      ],
      "text/plain": [
       "ConditionSet(x, Eq(-12*x**4*sin(cos(x)) - 18*x**3 + 5*x**2 + 10*x - 30, 0), Complexes)"
      ]
     },
     "execution_count": 2,
     "metadata": {},
     "output_type": "execute_result"
    }
   ],
   "source": [
    "# Корни уравнения (спойлер - их бесконечное количество)\n",
    "\n",
    "sympy.solveset(f, x)"
   ]
  },
  {
   "cell_type": "code",
   "execution_count": 3,
   "id": "f3f34db4-4d4e-43f1-9626-403c06c01431",
   "metadata": {},
   "outputs": [
    {
     "name": "stdout",
     "output_type": "stream",
     "text": [
      "Интервалы возрастанния функции на выбранном отрезке: [(499.0, 499.52552552552555), (502.65765765765764, 505.81081081081084)]\n"
     ]
    }
   ],
   "source": [
    "# Интервалы возрастания\n",
    "# Возьмем участок оси Х [499; 506]\n",
    "\n",
    "x_val = np.linspace(499, 506, 1000)\n",
    "f = [-12*(x**4)*sympy.sin(sympy.cos(x)) - 18*(x**3)+5*(x**2) + 10*x - 30 for x in x_val]\n",
    "\n",
    "start_int = x_val[0]\n",
    "end_int = x_val[0]\n",
    "start_list = []\n",
    "end_list = []\n",
    "count_st = 0\n",
    "count_end = 0\n",
    "intervals = []\n",
    "\n",
    "for i in range(len(x_val)-1):\n",
    "    if f[i+1] < f[i]:\n",
    "        start_int = x_val[i]\n",
    "        count_st = 0\n",
    "    elif count_st == 0:\n",
    "        start_list.append(start_int)\n",
    "        count_st = 1\n",
    "\n",
    "for i in range(len(x_val)-1):\n",
    "    if f[i+1] > f[i]:\n",
    "        end_int = x_val[i]\n",
    "        count_end = 0\n",
    "    elif count_end == 0:\n",
    "        end_list.append(x_val[i])\n",
    "        count_end = 1\n",
    "\n",
    "for i in range(len(start_list)):\n",
    "    intervals.append((start_list[i], end_list[i]))\n",
    "\n",
    "print(f'Интервалы возрастанния функции на выбранном отрезке: {intervals}')"
   ]
  },
  {
   "cell_type": "code",
   "execution_count": 4,
   "id": "aacc66de-e82d-4663-a688-7546e722991a",
   "metadata": {},
   "outputs": [
    {
     "name": "stdout",
     "output_type": "stream",
     "text": [
      "Интервалы убывания функции на выбранном отрезке: [(499.51851851851853, 502.66466466466466), (505.8038038038038, 506.0)]\n"
     ]
    }
   ],
   "source": [
    "# Интервалы убывания\n",
    "# Возьмем участок оси Х [499; 506]\n",
    "\n",
    "x_val = np.linspace(499, 506, 1000)\n",
    "f = [-12*(x**4)*sympy.sin(sympy.cos(x)) - 18*(x**3)+5*(x**2) + 10*x - 30 for x in x_val]\n",
    "\n",
    "start_int = x_val[0]\n",
    "end_int = x_val[0]\n",
    "start_list = []\n",
    "end_list = []\n",
    "count_st = 0\n",
    "count_end = 1\n",
    "intervals = []\n",
    "\n",
    "for i in range(len(x_val)-1):\n",
    "    if f[i+1] > f[i]:\n",
    "        start_int = x_val[i]\n",
    "        count_st = 0\n",
    "    elif count_st == 0:\n",
    "        start_list.append(start_int)\n",
    "        count_st = 1\n",
    "\n",
    "for i in range(len(x_val)-1):\n",
    "    if (i == len(x_val)-2) and (f[i+1] < f [i]):\n",
    "        end_list.append(x_val[i+1])\n",
    "    if f[i+1] < f[i]:\n",
    "        end_int = x_val[i]\n",
    "        count_end = 0\n",
    "    elif count_end == 0:\n",
    "        end_list.append(x_val[i])\n",
    "        count_end = 1\n",
    "\n",
    "for i in range(len(start_list)):\n",
    "    intervals.append((start_list[i], end_list[i]))\n",
    "\n",
    "print(f'Интервалы убывания функции на выбранном отрезке: {intervals}')"
   ]
  },
  {
   "cell_type": "code",
   "execution_count": 5,
   "id": "7824c92c-1d50-42ac-8a3a-a0d8965463b3",
   "metadata": {},
   "outputs": [
    {
     "data": {
      "image/png": "[encoded data removed]",
      "text/plain": [
       "<Figure size 720x720 with 1 Axes>"
      ]
     },
     "metadata": {
      "needs_background": "light"
     },
     "output_type": "display_data"
    }
   ],
   "source": [
    "# Строим график\n",
    "import matplotlib.pyplot as plt, math\n",
    "\n",
    "x_val = np.linspace(499, 506, 1000)\n",
    "f = [-12*(x**4)*sympy.sin(sympy.cos(x)) - 18*(x**3)+5*(x**2) + 10*x - 30 for x in x_val]\n",
    "fig, ax = plt.subplots(figsize=(10, 10))\n",
    "ax.plot(x_val, f)\n",
    "ax.grid()\n",
    "\n",
    "plt.show()"
   ]
  },
  {
   "cell_type": "code",
   "execution_count": 6,
   "id": "07f164fd-a52e-4d4d-9767-95f59167d8c0",
   "metadata": {},
   "outputs": [
    {
     "name": "stdout",
     "output_type": "stream",
     "text": [
      "Вершины функции на выбранном отрезке: [499.52552552552555, 505.81081081081084] и [502.66466466466466]\n"
     ]
    }
   ],
   "source": [
    "# Вершина\n",
    "# Всё тот же отрезок оси Х [499; 506]\n",
    "\n",
    "x_val = np.linspace(499, 506, 1000)\n",
    "f = [-12*(x**4)*sympy.sin(sympy.cos(x)) - 18*(x**3)+5*(x**2) + 10*x - 30 for x in x_val]\n",
    "\n",
    "vertex_top = []\n",
    "vertex_down = []\n",
    "peak = 0\n",
    "switcher = 0\n",
    "\n",
    "for i in range(len(x_val)-1):\n",
    "    if f[i+1] > f[i]:\n",
    "        peak = x_val[i+1]\n",
    "        switcher = 0\n",
    "    elif switcher == 0:\n",
    "        vertex_top.append(peak)\n",
    "        switcher = 1\n",
    "\n",
    "for i in range(len(x_val)-1):\n",
    "    if f[i+1] < f[i]:\n",
    "        peak = x_val[i+1]\n",
    "        switcher = 0\n",
    "    elif switcher == 0:\n",
    "        vertex_down.append(peak)\n",
    "        switcher = 1\n",
    "        \n",
    "print(f'Вершины функции на выбранном отрезке: {vertex_top} и {vertex_down}')"
   ]
  },
  {
   "cell_type": "code",
   "execution_count": 7,
   "id": "749f0a4d-0af0-4683-8067-ed79fd7a675b",
   "metadata": {},
   "outputs": [
    {
     "name": "stdout",
     "output_type": "stream",
     "text": [
      "Интервалы положительной функции на выбранном отрезке: [(499.0, 501.0810810810811), (504.2272272272272, 506.0)]\n"
     ]
    }
   ],
   "source": [
    "# Промежутки f > 0\n",
    "# Всё тот же отрезок оси Х [499; 506]\n",
    "\n",
    "x_val = np.linspace(499, 506, 1000)\n",
    "f = [-12*(x**4)*sympy.sin(sympy.cos(x)) - 18*(x**3)+5*(x**2) + 10*x - 30 for x in x_val]\n",
    "\n",
    "start_int = x_val[0]\n",
    "end_int = x_val[0]\n",
    "start_list = []\n",
    "end_list = []\n",
    "count_st = 0\n",
    "count_end = 1\n",
    "intervals = []\n",
    "\n",
    "for i in range(len(x_val)):\n",
    "    if f[i] < 0:\n",
    "        start_int = x_val[i]\n",
    "        count_st = 0\n",
    "    elif count_st == 0:\n",
    "        start_list.append(start_int)\n",
    "        count_st = 1\n",
    "\n",
    "for i in range(len(x_val)):\n",
    "    if (i == (len(x_val) - 1)) and (f[i] > 0):\n",
    "        end_list.append(x_val[i])\n",
    "    if f[i] > 0:\n",
    "        end_int = x_val[i]\n",
    "        count_end = 0\n",
    "    elif count_end == 0:\n",
    "        end_list.append(x_val[i])\n",
    "        count_end = 1\n",
    "\n",
    "for i in range(len(start_list)):\n",
    "    intervals.append((start_list[i], end_list[i]))\n",
    "\n",
    "print(f'Интервалы положительной функции на выбранном отрезке: {intervals}')"
   ]
  },
  {
   "cell_type": "code",
   "execution_count": 8,
   "id": "0f0e8e8d-3b7b-40de-ae64-e95dec20ff3e",
   "metadata": {},
   "outputs": [
    {
     "name": "stdout",
     "output_type": "stream",
     "text": [
      "Интервалы отрицательной функции на выбранном отрезке: [(501.0740740740741, 504.23423423423424)]\n"
     ]
    }
   ],
   "source": [
    "# Промежутки f < 0\n",
    "# Всё тот же отрезок оси Х [499; 506]\n",
    "\n",
    "x_val = np.linspace(499, 506, 1000)\n",
    "f = [-12*(x**4)*sympy.sin(sympy.cos(x)) - 18*(x**3)+5*(x**2) + 10*x - 30 for x in x_val]\n",
    "\n",
    "start_int = x_val[0]\n",
    "end_int = x_val[0]\n",
    "start_list = []\n",
    "end_list = []\n",
    "count_st = 0\n",
    "count_end = 1\n",
    "intervals = []\n",
    "\n",
    "for i in range(len(x_val)):\n",
    "    if f[i] > 0:\n",
    "        start_int = x_val[i]\n",
    "        count_st = 0\n",
    "    elif count_st == 0:\n",
    "        start_list.append(start_int)\n",
    "        count_st = 1\n",
    "\n",
    "for i in range(len(x_val)):\n",
    "    if f[i] < 0:\n",
    "        end_int = x_val[i]\n",
    "        count_end = 0\n",
    "    elif count_end == 0:\n",
    "        end_list.append(x_val[i])\n",
    "        count_end = 1\n",
    "\n",
    "for i in range(len(start_list)):\n",
    "    intervals.append((start_list[i], end_list[i]))\n",
    "\n",
    "print(f'Интервалы отрицательной функции на выбранном отрезке: {intervals}')"
   ]
  },
  {
   "cell_type": "code",
   "execution_count": null,
   "id": "1a8510b8-bc56-4723-9368-086dcbcd7ddd",
   "metadata": {},
   "outputs": [],
   "source": []
  }
 ],
 "metadata": {
  "kernelspec": {
   "display_name": "Python 3 (ipykernel)",
   "language": "python",
   "name": "python3"
  },
  "language_info": {
   "codemirror_mode": {
    "name": "ipython",
    "version": 3
   },
   "file_extension": ".py",
   "mimetype": "text/x-python",
   "name": "python",
   "nbconvert_exporter": "python",
   "pygments_lexer": "ipython3",
   "version": "3.9.12"
  }
 },
 "nbformat": 4,
 "nbformat_minor": 5
}
